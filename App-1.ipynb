{
 "cells": [
  {
   "cell_type": "code",
   "execution_count": 1,
   "id": "95d44e01",
   "metadata": {},
   "outputs": [],
   "source": [
    "import tensorflow as tf\n",
    "import matplotlib.pyplot as plt\n",
    "import numpy as np\n"
   ]
  },
  {
   "cell_type": "code",
   "execution_count": 3,
   "id": "b3c70d4c",
   "metadata": {},
   "outputs": [],
   "source": [
    "(x_train, y_train), (x_test, y_test) = tf.keras.datasets.cifar10.load_data()"
   ]
  },
  {
   "cell_type": "code",
   "execution_count": 4,
   "id": "f49b540f",
   "metadata": {},
   "outputs": [
    {
     "data": {
      "text/plain": [
       "((50000, 32, 32, 3), (50000, 1), (10000, 32, 32, 3), (10000, 32, 32, 3))"
      ]
     },
     "execution_count": 4,
     "metadata": {},
     "output_type": "execute_result"
    }
   ],
   "source": [
    "x_train.shape, y_train.shape, x_test.shape, x_test.shape"
   ]
  },
  {
   "cell_type": "code",
   "execution_count": 5,
   "id": "e5193290",
   "metadata": {},
   "outputs": [
    {
     "data": {
      "text/plain": [
       "(dtype('uint8'), dtype('uint8'), dtype('uint8'), dtype('uint8'))"
      ]
     },
     "execution_count": 5,
     "metadata": {},
     "output_type": "execute_result"
    }
   ],
   "source": [
    "x_train.dtype, y_train.dtype, x_test.dtype, x_test.dtype"
   ]
  },
  {
   "cell_type": "code",
   "execution_count": 7,
   "id": "ea5913a4",
   "metadata": {},
   "outputs": [
    {
     "data": {
      "text/plain": [
       "<matplotlib.image.AxesImage at 0x26e8ff055a0>"
      ]
     },
     "execution_count": 7,
     "metadata": {},
     "output_type": "execute_result"
    },
    {
     "data": {
      "image/png": "[encoded data removed]",
      "text/plain": [
       "<Figure size 640x480 with 1 Axes>"
      ]
     },
     "metadata": {},
     "output_type": "display_data"
    }
   ],
   "source": [
    "plt.imshow(x_train[9])"
   ]
  },
  {
   "cell_type": "code",
   "execution_count": 8,
   "id": "235911a6",
   "metadata": {},
   "outputs": [],
   "source": [
    "from tensorflow.keras.utils import to_categorical\n",
    "y_train = to_categorical(y_train)"
   ]
  },
  {
   "cell_type": "code",
   "execution_count": 9,
   "id": "b6d22078",
   "metadata": {},
   "outputs": [],
   "source": [
    "y_test = to_categorical(y_test)"
   ]
  },
  {
   "cell_type": "code",
   "execution_count": 10,
   "id": "dfc3b07d",
   "metadata": {},
   "outputs": [],
   "source": [
    "x_train = x_train.astype('float32') / 255.0"
   ]
  },
  {
   "cell_type": "code",
   "execution_count": 11,
   "id": "aca608e7",
   "metadata": {},
   "outputs": [
    {
     "data": {
      "text/plain": [
       "(dtype('float32'), 0.0, 1.0)"
      ]
     },
     "execution_count": 11,
     "metadata": {},
     "output_type": "execute_result"
    }
   ],
   "source": [
    "x_train.dtype, x_train.min(), x_train.max()"
   ]
  },
  {
   "cell_type": "code",
   "execution_count": 12,
   "id": "69940092",
   "metadata": {},
   "outputs": [],
   "source": [
    "x_test = x_test.astype('float32')/255.0"
   ]
  },
  {
   "cell_type": "code",
   "execution_count": 13,
   "id": "a36b13b7",
   "metadata": {},
   "outputs": [
    {
     "data": {
      "text/plain": [
       "(dtype('float32'), 0.0, 1.0)"
      ]
     },
     "execution_count": 13,
     "metadata": {},
     "output_type": "execute_result"
    }
   ],
   "source": [
    "x_test.dtype, x_test.min(), x_test.max()"
   ]
  },
  {
   "cell_type": "code",
   "execution_count": 14,
   "id": "30e87b48",
   "metadata": {},
   "outputs": [
    {
     "data": {
      "text/plain": [
       "<matplotlib.image.AxesImage at 0x26e9b71d390>"
      ]
     },
     "execution_count": 14,
     "metadata": {},
     "output_type": "execute_result"
    },
    {
     "data": {
      "image/png": "[encoded data removed]",
      "text/plain": [
       "<Figure size 640x480 with 1 Axes>"
      ]
     },
     "metadata": {},
     "output_type": "display_data"
    }
   ],
   "source": [
    "plt.imshow(x_train[11])"
   ]
  },
  {
   "cell_type": "code",
   "execution_count": 15,
   "id": "9884ee64",
   "metadata": {},
   "outputs": [
    {
     "data": {
      "text/plain": [
       "((40000, 32, 32, 3), (10000, 32, 32, 3), (40000, 10), (10000, 10))"
      ]
     },
     "execution_count": 15,
     "metadata": {},
     "output_type": "execute_result"
    }
   ],
   "source": [
    "n = x_train.shape[0]\n",
    "i = np.random.permutation(n)\n",
    "temp = x_train[i]\n",
    "x_val = temp[0:10000]\n",
    "x_train = temp[10000:n]\n",
    "\n",
    "temp = y_train[i]\n",
    "y_val = temp[0:10000]\n",
    "y_train = temp[10000:n]\n",
    "\n",
    "x_train.shape, x_val.shape, y_train.shape, y_val.shape "
   ]
  },
  {
   "cell_type": "code",
   "execution_count": 17,
   "id": "bda15f06",
   "metadata": {},
   "outputs": [],
   "source": [
    "from tensorflow.keras.models import Model\n",
    "from tensorflow.keras.layers import Input, Dense, Conv2D, MaxPool2D, Dropout, Flatten, GlobalAveragePooling2D, ReLU, BatchNormalization, Activation\n",
    "from tensorflow.keras import regularizers\n",
    "from tensorflow.keras.constraints import max_norm\n",
    "\n"
   ]
  },
  {
   "cell_type": "code",
   "execution_count": 50,
   "id": "a7692475",
   "metadata": {},
   "outputs": [],
   "source": [
    "i = Input(shape=(32,32,3), batch_size=None)\n",
    "x = Conv2D(filters=16, kernel_size=(5,5), activation='relu')(i)\n",
    "x = Conv2D(filters=16, kernel_size=(5,5), activation='relu')(x)\n",
    "x = BatchNormalization()(x)\n",
    "x = MaxPool2D(pool_size=(2,2))(x)\n",
    "\n",
    "x = Conv2D(filters=32, kernel_size=(5,5), activation='relu')(x)\n",
    "x = BatchNormalization()(x)\n",
    "x = MaxPool2D(pool_size=(2,2))(x)\n",
    "\n",
    "x = Conv2D(filters=64, kernel_size=(4,4), activation='relu')(x)\n",
    "x = BatchNormalization()(x)\n",
    "# x = MaxPool2D(pool_size=(2,2))(x)\n",
    "\n",
    "# x = Conv2D(filters=128, kernel_size=(3,3), activation='relu')(x)\n",
    "# # x = Conv2D(filters=128, kernel_size=(3,3), activation='relu')(x)\n",
    "# x = BatchNormalization()(x)\n",
    "# x = MaxPool2D(pool_size=(2,2))(x)\n",
    "\n",
    "x = GlobalAveragePooling2D()(x)\n",
    "\n",
    "x = Dense(units=128, activation='relu')(x)\n",
    "x = Dropout(0.3)(x)\n",
    "x = Dense(units=64, activation='relu')(x)\n",
    "x = Dropout(0.3)(x)\n",
    "x = Dense(units=32, activation='relu')(x)\n",
    "x = Dropout(0.3)(x)\n",
    "p = Dense(units=10, activation='softmax')(x)\n",
    "\n",
    "model = Model(i, p)\n"
   ]
  },
  {
   "cell_type": "code",
   "execution_count": 51,
   "id": "ef92c386",
   "metadata": {},
   "outputs": [
    {
     "name": "stdout",
     "output_type": "stream",
     "text": [
      "Model: \"model_9\"\n",
      "_________________________________________________________________\n",
      " Layer (type)                Output Shape              Param #   \n",
      "=================================================================\n",
      " input_26 (InputLayer)       [(None, 32, 32, 3)]       0         \n",
      "                                                                 \n",
      " conv2d_103 (Conv2D)         (None, 28, 28, 16)        1216      \n",
      "                                                                 \n",
      " conv2d_104 (Conv2D)         (None, 24, 24, 16)        6416      \n",
      "                                                                 \n",
      " batch_normalization_54 (Ba  (None, 24, 24, 16)        64        \n",
      " tchNormalization)                                               \n",
      "                                                                 \n",
      " max_pooling2d_55 (MaxPooli  (None, 12, 12, 16)        0         \n",
      " ng2D)                                                           \n",
      "                                                                 \n",
      " conv2d_105 (Conv2D)         (None, 8, 8, 32)          12832     \n",
      "                                                                 \n",
      " batch_normalization_55 (Ba  (None, 8, 8, 32)          128       \n",
      " tchNormalization)                                               \n",
      "                                                                 \n",
      " max_pooling2d_56 (MaxPooli  (None, 4, 4, 32)          0         \n",
      " ng2D)                                                           \n",
      "                                                                 \n",
      " conv2d_106 (Conv2D)         (None, 1, 1, 64)          32832     \n",
      "                                                                 \n",
      " batch_normalization_56 (Ba  (None, 1, 1, 64)          256       \n",
      " tchNormalization)                                               \n",
      "                                                                 \n",
      " global_average_pooling2d_7  (None, 64)                0         \n",
      "  (GlobalAveragePooling2D)                                       \n",
      "                                                                 \n",
      " dense_36 (Dense)            (None, 128)               8320      \n",
      "                                                                 \n",
      " dropout_27 (Dropout)        (None, 128)               0         \n",
      "                                                                 \n",
      " dense_37 (Dense)            (None, 64)                8256      \n",
      "                                                                 \n",
      " dropout_28 (Dropout)        (None, 64)                0         \n",
      "                                                                 \n",
      " dense_38 (Dense)            (None, 32)                2080      \n",
      "                                                                 \n",
      " dropout_29 (Dropout)        (None, 32)                0         \n",
      "                                                                 \n",
      " dense_39 (Dense)            (None, 10)                330       \n",
      "                                                                 \n",
      "=================================================================\n",
      "Total params: 72730 (284.10 KB)\n",
      "Trainable params: 72506 (283.23 KB)\n",
      "Non-trainable params: 224 (896.00 Byte)\n",
      "_________________________________________________________________\n"
     ]
    }
   ],
   "source": [
    "model.summary()"
   ]
  },
  {
   "cell_type": "code",
   "execution_count": 54,
   "metadata": {},
   "outputs": [],
   "source": [
    "from tensorflow.keras.optimizers import Adam\n",
    "\n",
    "model.compile(optimizer='adam', loss='categorical_crossentropy', metrics=['accuracy'])\n",
    "# model.compile(optimizer=Adam(learnin_rate = 0.0001),loss='categorical_crossentropy',metrics=['accuracy'] )"
   ]
  },
  {
   "cell_type": "code",
   "execution_count": 55,
   "id": "f9a256ca",
   "metadata": {},
   "outputs": [
    {
     "name": "stdout",
     "output_type": "stream",
     "text": [
      "Epoch 1/25\n",
      "1250/1250 [==============================] - 49s 38ms/step - loss: 1.8974 - accuracy: 0.2919 - val_loss: 1.9908 - val_accuracy: 0.3126\n",
      "Epoch 2/25\n",
      "1250/1250 [==============================] - 49s 39ms/step - loss: 1.6011 - accuracy: 0.4238 - val_loss: 1.4547 - val_accuracy: 0.4811\n",
      "Epoch 3/25\n",
      "1250/1250 [==============================] - 50s 40ms/step - loss: 1.4700 - accuracy: 0.4798 - val_loss: 1.3369 - val_accuracy: 0.5226\n",
      "Epoch 4/25\n",
      "1250/1250 [==============================] - 51s 41ms/step - loss: 1.3727 - accuracy: 0.5224 - val_loss: 1.3826 - val_accuracy: 0.5173\n",
      "Epoch 5/25\n",
      "1250/1250 [==============================] - 50s 40ms/step - loss: 1.2943 - accuracy: 0.5565 - val_loss: 1.2930 - val_accuracy: 0.5512\n",
      "Epoch 6/25\n",
      "1250/1250 [==============================] - 52s 41ms/step - loss: 1.2379 - accuracy: 0.5791 - val_loss: 1.3460 - val_accuracy: 0.5481\n",
      "Epoch 7/25\n",
      "1250/1250 [==============================] - 51s 41ms/step - loss: 1.1874 - accuracy: 0.5943 - val_loss: 1.0776 - val_accuracy: 0.6203\n",
      "Epoch 8/25\n",
      "1250/1250 [==============================] - 51s 41ms/step - loss: 1.1409 - accuracy: 0.6134 - val_loss: 1.1112 - val_accuracy: 0.6117\n",
      "Epoch 9/25\n",
      "  83/1250 [>.............................] - ETA: 47s - loss: 1.0913 - accuracy: 0.6239"
     ]
    },
    {
     "ename": "KeyboardInterrupt",
     "evalue": "",
     "output_type": "error",
     "traceback": [
      "\u001b[1;31m---------------------------------------------------------------------------\u001b[0m",
      "\u001b[1;31mKeyboardInterrupt\u001b[0m                         Traceback (most recent call last)",
      "Cell \u001b[1;32mIn[55], line 1\u001b[0m\n\u001b[1;32m----> 1\u001b[0m \u001b[43mmodel\u001b[49m\u001b[38;5;241;43m.\u001b[39;49m\u001b[43mfit\u001b[49m\u001b[43m(\u001b[49m\u001b[43mx\u001b[49m\u001b[38;5;241;43m=\u001b[39;49m\u001b[43mx_train\u001b[49m\u001b[43m,\u001b[49m\u001b[43m \u001b[49m\u001b[43my\u001b[49m\u001b[38;5;241;43m=\u001b[39;49m\u001b[43my_train\u001b[49m\u001b[43m,\u001b[49m\u001b[43m \u001b[49m\u001b[43mvalidation_data\u001b[49m\u001b[38;5;241;43m=\u001b[39;49m\u001b[43m(\u001b[49m\u001b[43mx_val\u001b[49m\u001b[43m,\u001b[49m\u001b[43m \u001b[49m\u001b[43my_val\u001b[49m\u001b[43m)\u001b[49m\u001b[43m,\u001b[49m\u001b[43m \u001b[49m\u001b[43mepochs\u001b[49m\u001b[38;5;241;43m=\u001b[39;49m\u001b[38;5;241;43m25\u001b[39;49m\u001b[43m)\u001b[49m\n",
      "File \u001b[1;32m~\\AppData\\Local\\Programs\\Python\\Python310\\lib\\site-packages\\keras\\src\\utils\\traceback_utils.py:65\u001b[0m, in \u001b[0;36mfilter_traceback.<locals>.error_handler\u001b[1;34m(*args, **kwargs)\u001b[0m\n\u001b[0;32m     <a href='file:///c%3A/Users/Mehrdad/AppData/Local/Programs/Python/Python310/lib/site-packages/keras/src/utils/traceback_utils.py?line=62'>63</a>\u001b[0m filtered_tb \u001b[39m=\u001b[39m \u001b[39mNone\u001b[39;00m\n\u001b[0;32m     <a href='file:///c%3A/Users/Mehrdad/AppData/Local/Programs/Python/Python310/lib/site-packages/keras/src/utils/traceback_utils.py?line=63'>64</a>\u001b[0m \u001b[39mtry\u001b[39;00m:\n\u001b[1;32m---> <a href='file:///c%3A/Users/Mehrdad/AppData/Local/Programs/Python/Python310/lib/site-packages/keras/src/utils/traceback_utils.py?line=64'>65</a>\u001b[0m     \u001b[39mreturn\u001b[39;00m fn(\u001b[39m*\u001b[39margs, \u001b[39m*\u001b[39m\u001b[39m*\u001b[39mkwargs)\n\u001b[0;32m     <a href='file:///c%3A/Users/Mehrdad/AppData/Local/Programs/Python/Python310/lib/site-packages/keras/src/utils/traceback_utils.py?line=65'>66</a>\u001b[0m \u001b[39mexcept\u001b[39;00m \u001b[39mException\u001b[39;00m \u001b[39mas\u001b[39;00m e:\n\u001b[0;32m     <a href='file:///c%3A/Users/Mehrdad/AppData/Local/Programs/Python/Python310/lib/site-packages/keras/src/utils/traceback_utils.py?line=66'>67</a>\u001b[0m     filtered_tb \u001b[39m=\u001b[39m _process_traceback_frames(e\u001b[39m.\u001b[39m__traceback__)\n",
      "File \u001b[1;32m~\\AppData\\Local\\Programs\\Python\\Python310\\lib\\site-packages\\keras\\src\\engine\\training.py:1742\u001b[0m, in \u001b[0;36mModel.fit\u001b[1;34m(self, x, y, batch_size, epochs, verbose, callbacks, validation_split, validation_data, shuffle, class_weight, sample_weight, initial_epoch, steps_per_epoch, validation_steps, validation_batch_size, validation_freq, max_queue_size, workers, use_multiprocessing)\u001b[0m\n\u001b[0;32m   <a href='file:///c%3A/Users/Mehrdad/AppData/Local/Programs/Python/Python310/lib/site-packages/keras/src/engine/training.py?line=1733'>1734</a>\u001b[0m \u001b[39mwith\u001b[39;00m tf\u001b[39m.\u001b[39mprofiler\u001b[39m.\u001b[39mexperimental\u001b[39m.\u001b[39mTrace(\n\u001b[0;32m   <a href='file:///c%3A/Users/Mehrdad/AppData/Local/Programs/Python/Python310/lib/site-packages/keras/src/engine/training.py?line=1734'>1735</a>\u001b[0m     \u001b[39m\"\u001b[39m\u001b[39mtrain\u001b[39m\u001b[39m\"\u001b[39m,\n\u001b[0;32m   <a href='file:///c%3A/Users/Mehrdad/AppData/Local/Programs/Python/Python310/lib/site-packages/keras/src/engine/training.py?line=1735'>1736</a>\u001b[0m     epoch_num\u001b[39m=\u001b[39mepoch,\n\u001b[1;32m   (...)\u001b[0m\n\u001b[0;32m   <a href='file:///c%3A/Users/Mehrdad/AppData/Local/Programs/Python/Python310/lib/site-packages/keras/src/engine/training.py?line=1738'>1739</a>\u001b[0m     _r\u001b[39m=\u001b[39m\u001b[39m1\u001b[39m,\n\u001b[0;32m   <a href='file:///c%3A/Users/Mehrdad/AppData/Local/Programs/Python/Python310/lib/site-packages/keras/src/engine/training.py?line=1739'>1740</a>\u001b[0m ):\n\u001b[0;32m   <a href='file:///c%3A/Users/Mehrdad/AppData/Local/Programs/Python/Python310/lib/site-packages/keras/src/engine/training.py?line=1740'>1741</a>\u001b[0m     callbacks\u001b[39m.\u001b[39mon_train_batch_begin(step)\n\u001b[1;32m-> <a href='file:///c%3A/Users/Mehrdad/AppData/Local/Programs/Python/Python310/lib/site-packages/keras/src/engine/training.py?line=1741'>1742</a>\u001b[0m     tmp_logs \u001b[39m=\u001b[39m \u001b[39mself\u001b[39;49m\u001b[39m.\u001b[39;49mtrain_function(iterator)\n\u001b[0;32m   <a href='file:///c%3A/Users/Mehrdad/AppData/Local/Programs/Python/Python310/lib/site-packages/keras/src/engine/training.py?line=1742'>1743</a>\u001b[0m     \u001b[39mif\u001b[39;00m data_handler\u001b[39m.\u001b[39mshould_sync:\n\u001b[0;32m   <a href='file:///c%3A/Users/Mehrdad/AppData/Local/Programs/Python/Python310/lib/site-packages/keras/src/engine/training.py?line=1743'>1744</a>\u001b[0m         context\u001b[39m.\u001b[39masync_wait()\n",
      "File \u001b[1;32m~\\AppData\\Local\\Programs\\Python\\Python310\\lib\\site-packages\\tensorflow\\python\\util\\traceback_utils.py:150\u001b[0m, in \u001b[0;36mfilter_traceback.<locals>.error_handler\u001b[1;34m(*args, **kwargs)\u001b[0m\n\u001b[0;32m    <a href='file:///c%3A/Users/Mehrdad/AppData/Local/Programs/Python/Python310/lib/site-packages/tensorflow/python/util/traceback_utils.py?line=147'>148</a>\u001b[0m filtered_tb \u001b[39m=\u001b[39m \u001b[39mNone\u001b[39;00m\n\u001b[0;32m    <a href='file:///c%3A/Users/Mehrdad/AppData/Local/Programs/Python/Python310/lib/site-packages/tensorflow/python/util/traceback_utils.py?line=148'>149</a>\u001b[0m \u001b[39mtry\u001b[39;00m:\n\u001b[1;32m--> <a href='file:///c%3A/Users/Mehrdad/AppData/Local/Programs/Python/Python310/lib/site-packages/tensorflow/python/util/traceback_utils.py?line=149'>150</a>\u001b[0m   \u001b[39mreturn\u001b[39;00m fn(\u001b[39m*\u001b[39margs, \u001b[39m*\u001b[39m\u001b[39m*\u001b[39mkwargs)\n\u001b[0;32m    <a href='file:///c%3A/Users/Mehrdad/AppData/Local/Programs/Python/Python310/lib/site-packages/tensorflow/python/util/traceback_utils.py?line=150'>151</a>\u001b[0m \u001b[39mexcept\u001b[39;00m \u001b[39mException\u001b[39;00m \u001b[39mas\u001b[39;00m e:\n\u001b[0;32m    <a href='file:///c%3A/Users/Mehrdad/AppData/Local/Programs/Python/Python310/lib/site-packages/tensorflow/python/util/traceback_utils.py?line=151'>152</a>\u001b[0m   filtered_tb \u001b[39m=\u001b[39m _process_traceback_frames(e\u001b[39m.\u001b[39m__traceback__)\n",
      "File \u001b[1;32m~\\AppData\\Local\\Programs\\Python\\Python310\\lib\\site-packages\\tensorflow\\python\\eager\\polymorphic_function\\polymorphic_function.py:825\u001b[0m, in \u001b[0;36mFunction.__call__\u001b[1;34m(self, *args, **kwds)\u001b[0m\n\u001b[0;32m    <a href='file:///c%3A/Users/Mehrdad/AppData/Local/Programs/Python/Python310/lib/site-packages/tensorflow/python/eager/polymorphic_function/polymorphic_function.py?line=821'>822</a>\u001b[0m compiler \u001b[39m=\u001b[39m \u001b[39m\"\u001b[39m\u001b[39mxla\u001b[39m\u001b[39m\"\u001b[39m \u001b[39mif\u001b[39;00m \u001b[39mself\u001b[39m\u001b[39m.\u001b[39m_jit_compile \u001b[39melse\u001b[39;00m \u001b[39m\"\u001b[39m\u001b[39mnonXla\u001b[39m\u001b[39m\"\u001b[39m\n\u001b[0;32m    <a href='file:///c%3A/Users/Mehrdad/AppData/Local/Programs/Python/Python310/lib/site-packages/tensorflow/python/eager/polymorphic_function/polymorphic_function.py?line=823'>824</a>\u001b[0m \u001b[39mwith\u001b[39;00m OptionalXlaContext(\u001b[39mself\u001b[39m\u001b[39m.\u001b[39m_jit_compile):\n\u001b[1;32m--> <a href='file:///c%3A/Users/Mehrdad/AppData/Local/Programs/Python/Python310/lib/site-packages/tensorflow/python/eager/polymorphic_function/polymorphic_function.py?line=824'>825</a>\u001b[0m   result \u001b[39m=\u001b[39m \u001b[39mself\u001b[39m\u001b[39m.\u001b[39m_call(\u001b[39m*\u001b[39margs, \u001b[39m*\u001b[39m\u001b[39m*\u001b[39mkwds)\n\u001b[0;32m    <a href='file:///c%3A/Users/Mehrdad/AppData/Local/Programs/Python/Python310/lib/site-packages/tensorflow/python/eager/polymorphic_function/polymorphic_function.py?line=826'>827</a>\u001b[0m new_tracing_count \u001b[39m=\u001b[39m \u001b[39mself\u001b[39m\u001b[39m.\u001b[39mexperimental_get_tracing_count()\n\u001b[0;32m    <a href='file:///c%3A/Users/Mehrdad/AppData/Local/Programs/Python/Python310/lib/site-packages/tensorflow/python/eager/polymorphic_function/polymorphic_function.py?line=827'>828</a>\u001b[0m without_tracing \u001b[39m=\u001b[39m (tracing_count \u001b[39m==\u001b[39m new_tracing_count)\n",
      "File \u001b[1;32m~\\AppData\\Local\\Programs\\Python\\Python310\\lib\\site-packages\\tensorflow\\python\\eager\\polymorphic_function\\polymorphic_function.py:857\u001b[0m, in \u001b[0;36mFunction._call\u001b[1;34m(self, *args, **kwds)\u001b[0m\n\u001b[0;32m    <a href='file:///c%3A/Users/Mehrdad/AppData/Local/Programs/Python/Python310/lib/site-packages/tensorflow/python/eager/polymorphic_function/polymorphic_function.py?line=853'>854</a>\u001b[0m   \u001b[39mself\u001b[39m\u001b[39m.\u001b[39m_lock\u001b[39m.\u001b[39mrelease()\n\u001b[0;32m    <a href='file:///c%3A/Users/Mehrdad/AppData/Local/Programs/Python/Python310/lib/site-packages/tensorflow/python/eager/polymorphic_function/polymorphic_function.py?line=854'>855</a>\u001b[0m   \u001b[39m# In this case we have created variables on the first call, so we run the\u001b[39;00m\n\u001b[0;32m    <a href='file:///c%3A/Users/Mehrdad/AppData/Local/Programs/Python/Python310/lib/site-packages/tensorflow/python/eager/polymorphic_function/polymorphic_function.py?line=855'>856</a>\u001b[0m   \u001b[39m# defunned version which is guaranteed to never create variables.\u001b[39;00m\n\u001b[1;32m--> <a href='file:///c%3A/Users/Mehrdad/AppData/Local/Programs/Python/Python310/lib/site-packages/tensorflow/python/eager/polymorphic_function/polymorphic_function.py?line=856'>857</a>\u001b[0m   \u001b[39mreturn\u001b[39;00m \u001b[39mself\u001b[39m\u001b[39m.\u001b[39m_no_variable_creation_fn(\u001b[39m*\u001b[39margs, \u001b[39m*\u001b[39m\u001b[39m*\u001b[39mkwds)  \u001b[39m# pylint: disable=not-callable\u001b[39;00m\n\u001b[0;32m    <a href='file:///c%3A/Users/Mehrdad/AppData/Local/Programs/Python/Python310/lib/site-packages/tensorflow/python/eager/polymorphic_function/polymorphic_function.py?line=857'>858</a>\u001b[0m \u001b[39melif\u001b[39;00m \u001b[39mself\u001b[39m\u001b[39m.\u001b[39m_variable_creation_fn \u001b[39mis\u001b[39;00m \u001b[39mnot\u001b[39;00m \u001b[39mNone\u001b[39;00m:\n\u001b[0;32m    <a href='file:///c%3A/Users/Mehrdad/AppData/Local/Programs/Python/Python310/lib/site-packages/tensorflow/python/eager/polymorphic_function/polymorphic_function.py?line=858'>859</a>\u001b[0m   \u001b[39m# Release the lock early so that multiple threads can perform the call\u001b[39;00m\n\u001b[0;32m    <a href='file:///c%3A/Users/Mehrdad/AppData/Local/Programs/Python/Python310/lib/site-packages/tensorflow/python/eager/polymorphic_function/polymorphic_function.py?line=859'>860</a>\u001b[0m   \u001b[39m# in parallel.\u001b[39;00m\n\u001b[0;32m    <a href='file:///c%3A/Users/Mehrdad/AppData/Local/Programs/Python/Python310/lib/site-packages/tensorflow/python/eager/polymorphic_function/polymorphic_function.py?line=860'>861</a>\u001b[0m   \u001b[39mself\u001b[39m\u001b[39m.\u001b[39m_lock\u001b[39m.\u001b[39mrelease()\n",
      "File \u001b[1;32m~\\AppData\\Local\\Programs\\Python\\Python310\\lib\\site-packages\\tensorflow\\python\\eager\\polymorphic_function\\tracing_compiler.py:148\u001b[0m, in \u001b[0;36mTracingCompiler.__call__\u001b[1;34m(self, *args, **kwargs)\u001b[0m\n\u001b[0;32m    <a href='file:///c%3A/Users/Mehrdad/AppData/Local/Programs/Python/Python310/lib/site-packages/tensorflow/python/eager/polymorphic_function/tracing_compiler.py?line=144'>145</a>\u001b[0m \u001b[39mwith\u001b[39;00m \u001b[39mself\u001b[39m\u001b[39m.\u001b[39m_lock:\n\u001b[0;32m    <a href='file:///c%3A/Users/Mehrdad/AppData/Local/Programs/Python/Python310/lib/site-packages/tensorflow/python/eager/polymorphic_function/tracing_compiler.py?line=145'>146</a>\u001b[0m   (concrete_function,\n\u001b[0;32m    <a href='file:///c%3A/Users/Mehrdad/AppData/Local/Programs/Python/Python310/lib/site-packages/tensorflow/python/eager/polymorphic_function/tracing_compiler.py?line=146'>147</a>\u001b[0m    filtered_flat_args) \u001b[39m=\u001b[39m \u001b[39mself\u001b[39m\u001b[39m.\u001b[39m_maybe_define_function(args, kwargs)\n\u001b[1;32m--> <a href='file:///c%3A/Users/Mehrdad/AppData/Local/Programs/Python/Python310/lib/site-packages/tensorflow/python/eager/polymorphic_function/tracing_compiler.py?line=147'>148</a>\u001b[0m \u001b[39mreturn\u001b[39;00m concrete_function\u001b[39m.\u001b[39;49m_call_flat(\n\u001b[0;32m    <a href='file:///c%3A/Users/Mehrdad/AppData/Local/Programs/Python/Python310/lib/site-packages/tensorflow/python/eager/polymorphic_function/tracing_compiler.py?line=148'>149</a>\u001b[0m     filtered_flat_args, captured_inputs\u001b[39m=\u001b[39;49mconcrete_function\u001b[39m.\u001b[39;49mcaptured_inputs)\n",
      "File \u001b[1;32m~\\AppData\\Local\\Programs\\Python\\Python310\\lib\\site-packages\\tensorflow\\python\\eager\\polymorphic_function\\monomorphic_function.py:1349\u001b[0m, in \u001b[0;36mConcreteFunction._call_flat\u001b[1;34m(self, args, captured_inputs)\u001b[0m\n\u001b[0;32m   <a href='file:///c%3A/Users/Mehrdad/AppData/Local/Programs/Python/Python310/lib/site-packages/tensorflow/python/eager/polymorphic_function/monomorphic_function.py?line=1344'>1345</a>\u001b[0m possible_gradient_type \u001b[39m=\u001b[39m gradients_util\u001b[39m.\u001b[39mPossibleTapeGradientTypes(args)\n\u001b[0;32m   <a href='file:///c%3A/Users/Mehrdad/AppData/Local/Programs/Python/Python310/lib/site-packages/tensorflow/python/eager/polymorphic_function/monomorphic_function.py?line=1345'>1346</a>\u001b[0m \u001b[39mif\u001b[39;00m (possible_gradient_type \u001b[39m==\u001b[39m gradients_util\u001b[39m.\u001b[39mPOSSIBLE_GRADIENT_TYPES_NONE\n\u001b[0;32m   <a href='file:///c%3A/Users/Mehrdad/AppData/Local/Programs/Python/Python310/lib/site-packages/tensorflow/python/eager/polymorphic_function/monomorphic_function.py?line=1346'>1347</a>\u001b[0m     \u001b[39mand\u001b[39;00m executing_eagerly):\n\u001b[0;32m   <a href='file:///c%3A/Users/Mehrdad/AppData/Local/Programs/Python/Python310/lib/site-packages/tensorflow/python/eager/polymorphic_function/monomorphic_function.py?line=1347'>1348</a>\u001b[0m   \u001b[39m# No tape is watching; skip to running the function.\u001b[39;00m\n\u001b[1;32m-> <a href='file:///c%3A/Users/Mehrdad/AppData/Local/Programs/Python/Python310/lib/site-packages/tensorflow/python/eager/polymorphic_function/monomorphic_function.py?line=1348'>1349</a>\u001b[0m   \u001b[39mreturn\u001b[39;00m \u001b[39mself\u001b[39m\u001b[39m.\u001b[39m_build_call_outputs(\u001b[39mself\u001b[39;49m\u001b[39m.\u001b[39;49m_inference_function(\u001b[39m*\u001b[39;49margs))\n\u001b[0;32m   <a href='file:///c%3A/Users/Mehrdad/AppData/Local/Programs/Python/Python310/lib/site-packages/tensorflow/python/eager/polymorphic_function/monomorphic_function.py?line=1349'>1350</a>\u001b[0m forward_backward \u001b[39m=\u001b[39m \u001b[39mself\u001b[39m\u001b[39m.\u001b[39m_select_forward_and_backward_functions(\n\u001b[0;32m   <a href='file:///c%3A/Users/Mehrdad/AppData/Local/Programs/Python/Python310/lib/site-packages/tensorflow/python/eager/polymorphic_function/monomorphic_function.py?line=1350'>1351</a>\u001b[0m     args,\n\u001b[0;32m   <a href='file:///c%3A/Users/Mehrdad/AppData/Local/Programs/Python/Python310/lib/site-packages/tensorflow/python/eager/polymorphic_function/monomorphic_function.py?line=1351'>1352</a>\u001b[0m     possible_gradient_type,\n\u001b[0;32m   <a href='file:///c%3A/Users/Mehrdad/AppData/Local/Programs/Python/Python310/lib/site-packages/tensorflow/python/eager/polymorphic_function/monomorphic_function.py?line=1352'>1353</a>\u001b[0m     executing_eagerly)\n\u001b[0;32m   <a href='file:///c%3A/Users/Mehrdad/AppData/Local/Programs/Python/Python310/lib/site-packages/tensorflow/python/eager/polymorphic_function/monomorphic_function.py?line=1353'>1354</a>\u001b[0m forward_function, args_with_tangents \u001b[39m=\u001b[39m forward_backward\u001b[39m.\u001b[39mforward()\n",
      "File \u001b[1;32m~\\AppData\\Local\\Programs\\Python\\Python310\\lib\\site-packages\\tensorflow\\python\\eager\\polymorphic_function\\atomic_function.py:196\u001b[0m, in \u001b[0;36mAtomicFunction.__call__\u001b[1;34m(self, *args)\u001b[0m\n\u001b[0;32m    <a href='file:///c%3A/Users/Mehrdad/AppData/Local/Programs/Python/Python310/lib/site-packages/tensorflow/python/eager/polymorphic_function/atomic_function.py?line=193'>194</a>\u001b[0m \u001b[39mwith\u001b[39;00m record\u001b[39m.\u001b[39mstop_recording():\n\u001b[0;32m    <a href='file:///c%3A/Users/Mehrdad/AppData/Local/Programs/Python/Python310/lib/site-packages/tensorflow/python/eager/polymorphic_function/atomic_function.py?line=194'>195</a>\u001b[0m   \u001b[39mif\u001b[39;00m \u001b[39mself\u001b[39m\u001b[39m.\u001b[39m_bound_context\u001b[39m.\u001b[39mexecuting_eagerly():\n\u001b[1;32m--> <a href='file:///c%3A/Users/Mehrdad/AppData/Local/Programs/Python/Python310/lib/site-packages/tensorflow/python/eager/polymorphic_function/atomic_function.py?line=195'>196</a>\u001b[0m     outputs \u001b[39m=\u001b[39m \u001b[39mself\u001b[39;49m\u001b[39m.\u001b[39;49m_bound_context\u001b[39m.\u001b[39;49mcall_function(\n\u001b[0;32m    <a href='file:///c%3A/Users/Mehrdad/AppData/Local/Programs/Python/Python310/lib/site-packages/tensorflow/python/eager/polymorphic_function/atomic_function.py?line=196'>197</a>\u001b[0m         \u001b[39mself\u001b[39;49m\u001b[39m.\u001b[39;49mname,\n\u001b[0;32m    <a href='file:///c%3A/Users/Mehrdad/AppData/Local/Programs/Python/Python310/lib/site-packages/tensorflow/python/eager/polymorphic_function/atomic_function.py?line=197'>198</a>\u001b[0m         \u001b[39mlist\u001b[39;49m(args),\n\u001b[0;32m    <a href='file:///c%3A/Users/Mehrdad/AppData/Local/Programs/Python/Python310/lib/site-packages/tensorflow/python/eager/polymorphic_function/atomic_function.py?line=198'>199</a>\u001b[0m         \u001b[39mlen\u001b[39;49m(\u001b[39mself\u001b[39;49m\u001b[39m.\u001b[39;49mfunction_type\u001b[39m.\u001b[39;49mflat_outputs),\n\u001b[0;32m    <a href='file:///c%3A/Users/Mehrdad/AppData/Local/Programs/Python/Python310/lib/site-packages/tensorflow/python/eager/polymorphic_function/atomic_function.py?line=199'>200</a>\u001b[0m     )\n\u001b[0;32m    <a href='file:///c%3A/Users/Mehrdad/AppData/Local/Programs/Python/Python310/lib/site-packages/tensorflow/python/eager/polymorphic_function/atomic_function.py?line=200'>201</a>\u001b[0m   \u001b[39melse\u001b[39;00m:\n\u001b[0;32m    <a href='file:///c%3A/Users/Mehrdad/AppData/Local/Programs/Python/Python310/lib/site-packages/tensorflow/python/eager/polymorphic_function/atomic_function.py?line=201'>202</a>\u001b[0m     outputs \u001b[39m=\u001b[39m make_call_op_in_graph(\u001b[39mself\u001b[39m, \u001b[39mlist\u001b[39m(args))\n",
      "File \u001b[1;32m~\\AppData\\Local\\Programs\\Python\\Python310\\lib\\site-packages\\tensorflow\\python\\eager\\context.py:1457\u001b[0m, in \u001b[0;36mContext.call_function\u001b[1;34m(self, name, tensor_inputs, num_outputs)\u001b[0m\n\u001b[0;32m   <a href='file:///c%3A/Users/Mehrdad/AppData/Local/Programs/Python/Python310/lib/site-packages/tensorflow/python/eager/context.py?line=1454'>1455</a>\u001b[0m cancellation_context \u001b[39m=\u001b[39m cancellation\u001b[39m.\u001b[39mcontext()\n\u001b[0;32m   <a href='file:///c%3A/Users/Mehrdad/AppData/Local/Programs/Python/Python310/lib/site-packages/tensorflow/python/eager/context.py?line=1455'>1456</a>\u001b[0m \u001b[39mif\u001b[39;00m cancellation_context \u001b[39mis\u001b[39;00m \u001b[39mNone\u001b[39;00m:\n\u001b[1;32m-> <a href='file:///c%3A/Users/Mehrdad/AppData/Local/Programs/Python/Python310/lib/site-packages/tensorflow/python/eager/context.py?line=1456'>1457</a>\u001b[0m   outputs \u001b[39m=\u001b[39m execute\u001b[39m.\u001b[39;49mexecute(\n\u001b[0;32m   <a href='file:///c%3A/Users/Mehrdad/AppData/Local/Programs/Python/Python310/lib/site-packages/tensorflow/python/eager/context.py?line=1457'>1458</a>\u001b[0m       name\u001b[39m.\u001b[39;49mdecode(\u001b[39m\"\u001b[39;49m\u001b[39mutf-8\u001b[39;49m\u001b[39m\"\u001b[39;49m),\n\u001b[0;32m   <a href='file:///c%3A/Users/Mehrdad/AppData/Local/Programs/Python/Python310/lib/site-packages/tensorflow/python/eager/context.py?line=1458'>1459</a>\u001b[0m       num_outputs\u001b[39m=\u001b[39;49mnum_outputs,\n\u001b[0;32m   <a href='file:///c%3A/Users/Mehrdad/AppData/Local/Programs/Python/Python310/lib/site-packages/tensorflow/python/eager/context.py?line=1459'>1460</a>\u001b[0m       inputs\u001b[39m=\u001b[39;49mtensor_inputs,\n\u001b[0;32m   <a href='file:///c%3A/Users/Mehrdad/AppData/Local/Programs/Python/Python310/lib/site-packages/tensorflow/python/eager/context.py?line=1460'>1461</a>\u001b[0m       attrs\u001b[39m=\u001b[39;49mattrs,\n\u001b[0;32m   <a href='file:///c%3A/Users/Mehrdad/AppData/Local/Programs/Python/Python310/lib/site-packages/tensorflow/python/eager/context.py?line=1461'>1462</a>\u001b[0m       ctx\u001b[39m=\u001b[39;49m\u001b[39mself\u001b[39;49m,\n\u001b[0;32m   <a href='file:///c%3A/Users/Mehrdad/AppData/Local/Programs/Python/Python310/lib/site-packages/tensorflow/python/eager/context.py?line=1462'>1463</a>\u001b[0m   )\n\u001b[0;32m   <a href='file:///c%3A/Users/Mehrdad/AppData/Local/Programs/Python/Python310/lib/site-packages/tensorflow/python/eager/context.py?line=1463'>1464</a>\u001b[0m \u001b[39melse\u001b[39;00m:\n\u001b[0;32m   <a href='file:///c%3A/Users/Mehrdad/AppData/Local/Programs/Python/Python310/lib/site-packages/tensorflow/python/eager/context.py?line=1464'>1465</a>\u001b[0m   outputs \u001b[39m=\u001b[39m execute\u001b[39m.\u001b[39mexecute_with_cancellation(\n\u001b[0;32m   <a href='file:///c%3A/Users/Mehrdad/AppData/Local/Programs/Python/Python310/lib/site-packages/tensorflow/python/eager/context.py?line=1465'>1466</a>\u001b[0m       name\u001b[39m.\u001b[39mdecode(\u001b[39m\"\u001b[39m\u001b[39mutf-8\u001b[39m\u001b[39m\"\u001b[39m),\n\u001b[0;32m   <a href='file:///c%3A/Users/Mehrdad/AppData/Local/Programs/Python/Python310/lib/site-packages/tensorflow/python/eager/context.py?line=1466'>1467</a>\u001b[0m       num_outputs\u001b[39m=\u001b[39mnum_outputs,\n\u001b[1;32m   (...)\u001b[0m\n\u001b[0;32m   <a href='file:///c%3A/Users/Mehrdad/AppData/Local/Programs/Python/Python310/lib/site-packages/tensorflow/python/eager/context.py?line=1470'>1471</a>\u001b[0m       cancellation_manager\u001b[39m=\u001b[39mcancellation_context,\n\u001b[0;32m   <a href='file:///c%3A/Users/Mehrdad/AppData/Local/Programs/Python/Python310/lib/site-packages/tensorflow/python/eager/context.py?line=1471'>1472</a>\u001b[0m   )\n",
      "File \u001b[1;32m~\\AppData\\Local\\Programs\\Python\\Python310\\lib\\site-packages\\tensorflow\\python\\eager\\execute.py:53\u001b[0m, in \u001b[0;36mquick_execute\u001b[1;34m(op_name, num_outputs, inputs, attrs, ctx, name)\u001b[0m\n\u001b[0;32m     <a href='file:///c%3A/Users/Mehrdad/AppData/Local/Programs/Python/Python310/lib/site-packages/tensorflow/python/eager/execute.py?line=50'>51</a>\u001b[0m \u001b[39mtry\u001b[39;00m:\n\u001b[0;32m     <a href='file:///c%3A/Users/Mehrdad/AppData/Local/Programs/Python/Python310/lib/site-packages/tensorflow/python/eager/execute.py?line=51'>52</a>\u001b[0m   ctx\u001b[39m.\u001b[39mensure_initialized()\n\u001b[1;32m---> <a href='file:///c%3A/Users/Mehrdad/AppData/Local/Programs/Python/Python310/lib/site-packages/tensorflow/python/eager/execute.py?line=52'>53</a>\u001b[0m   tensors \u001b[39m=\u001b[39m pywrap_tfe\u001b[39m.\u001b[39;49mTFE_Py_Execute(ctx\u001b[39m.\u001b[39;49m_handle, device_name, op_name,\n\u001b[0;32m     <a href='file:///c%3A/Users/Mehrdad/AppData/Local/Programs/Python/Python310/lib/site-packages/tensorflow/python/eager/execute.py?line=53'>54</a>\u001b[0m                                       inputs, attrs, num_outputs)\n\u001b[0;32m     <a href='file:///c%3A/Users/Mehrdad/AppData/Local/Programs/Python/Python310/lib/site-packages/tensorflow/python/eager/execute.py?line=54'>55</a>\u001b[0m \u001b[39mexcept\u001b[39;00m core\u001b[39m.\u001b[39m_NotOkStatusException \u001b[39mas\u001b[39;00m e:\n\u001b[0;32m     <a href='file:///c%3A/Users/Mehrdad/AppData/Local/Programs/Python/Python310/lib/site-packages/tensorflow/python/eager/execute.py?line=55'>56</a>\u001b[0m   \u001b[39mif\u001b[39;00m name \u001b[39mis\u001b[39;00m \u001b[39mnot\u001b[39;00m \u001b[39mNone\u001b[39;00m:\n",
      "\u001b[1;31mKeyboardInterrupt\u001b[0m: "
     ]
    }
   ],
   "source": [
    "model.fit(x=x_train, y=y_train, validation_data=(x_val, y_val), epochs=25)"
   ]
  },
  {
   "cell_type": "code",
   "execution_count": null,
   "id": "42269298",
   "metadata": {},
   "outputs": [],
   "source": []
  }
 ],
 "metadata": {
  "kernelspec": {
   "display_name": "Python 3 (ipykernel)",
   "language": "python",
   "name": "python3"
  },
  "language_info": {
   "codemirror_mode": {
    "name": "ipython",
    "version": 3
   },
   "file_extension": ".py",
   "mimetype": "text/x-python",
   "name": "python",
   "nbconvert_exporter": "python",
   "pygments_lexer": "ipython3",
   "version": "3.10.6"
  }
 },
 "nbformat": 4,
 "nbformat_minor": 5
}
